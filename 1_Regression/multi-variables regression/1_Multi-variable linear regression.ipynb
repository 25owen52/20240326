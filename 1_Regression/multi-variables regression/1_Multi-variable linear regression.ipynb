{
 "cells": [
  {
   "cell_type": "code",
   "execution_count": 352,
   "id": "5ad8b55b-8ab9-4597-b0de-e06be2d0998a",
   "metadata": {},
   "outputs": [
    {
     "data": {
      "text/html": [
       "<div>\n",
       "<style scoped>\n",
       "    .dataframe tbody tr th:only-of-type {\n",
       "        vertical-align: middle;\n",
       "    }\n",
       "\n",
       "    .dataframe tbody tr th {\n",
       "        vertical-align: top;\n",
       "    }\n",
       "\n",
       "    .dataframe thead th {\n",
       "        text-align: right;\n",
       "    }\n",
       "</style>\n",
       "<table border=\"1\" class=\"dataframe\">\n",
       "  <thead>\n",
       "    <tr style=\"text-align: right;\">\n",
       "      <th></th>\n",
       "      <th>YearsExperience</th>\n",
       "      <th>EducationLevel</th>\n",
       "      <th>City</th>\n",
       "      <th>Salary</th>\n",
       "    </tr>\n",
       "  </thead>\n",
       "  <tbody>\n",
       "    <tr>\n",
       "      <th>0</th>\n",
       "      <td>3.0</td>\n",
       "      <td>大學</td>\n",
       "      <td>城市A</td>\n",
       "      <td>45.9</td>\n",
       "    </tr>\n",
       "    <tr>\n",
       "      <th>1</th>\n",
       "      <td>7.8</td>\n",
       "      <td>碩士以上</td>\n",
       "      <td>城市C</td>\n",
       "      <td>80.5</td>\n",
       "    </tr>\n",
       "    <tr>\n",
       "      <th>2</th>\n",
       "      <td>2.3</td>\n",
       "      <td>高中以下</td>\n",
       "      <td>城市A</td>\n",
       "      <td>25.2</td>\n",
       "    </tr>\n",
       "    <tr>\n",
       "      <th>3</th>\n",
       "      <td>5.1</td>\n",
       "      <td>高中以下</td>\n",
       "      <td>城市A</td>\n",
       "      <td>30.4</td>\n",
       "    </tr>\n",
       "    <tr>\n",
       "      <th>4</th>\n",
       "      <td>10.0</td>\n",
       "      <td>碩士以上</td>\n",
       "      <td>城市B</td>\n",
       "      <td>65.7</td>\n",
       "    </tr>\n",
       "  </tbody>\n",
       "</table>\n",
       "</div>"
      ],
      "text/plain": [
       "   YearsExperience EducationLevel City  Salary\n",
       "0              3.0             大學  城市A    45.9\n",
       "1              7.8           碩士以上  城市C    80.5\n",
       "2              2.3           高中以下  城市A    25.2\n",
       "3              5.1           高中以下  城市A    30.4\n",
       "4             10.0           碩士以上  城市B    65.7"
      ]
     },
     "execution_count": 352,
     "metadata": {},
     "output_type": "execute_result"
    }
   ],
   "source": [
    "import pandas as pd\n",
    "\n",
    "output_path = './Salary_Data_2.csv'\n",
    "\n",
    "path = output_path\n",
    "df = pd.read_csv(output_path)\n",
    "\n",
    "# y = w*x + b\n",
    "x = df[\"YearsExperience\"]\n",
    "y = df[\"Salary\"]\n",
    "df.head(5)"
   ]
  },
  {
   "cell_type": "code",
   "execution_count": 353,
   "id": "a5e5f661-2796-4076-96a3-474370b8dd75",
   "metadata": {},
   "outputs": [
    {
     "data": {
      "text/html": [
       "<div>\n",
       "<style scoped>\n",
       "    .dataframe tbody tr th:only-of-type {\n",
       "        vertical-align: middle;\n",
       "    }\n",
       "\n",
       "    .dataframe tbody tr th {\n",
       "        vertical-align: top;\n",
       "    }\n",
       "\n",
       "    .dataframe thead th {\n",
       "        text-align: right;\n",
       "    }\n",
       "</style>\n",
       "<table border=\"1\" class=\"dataframe\">\n",
       "  <thead>\n",
       "    <tr style=\"text-align: right;\">\n",
       "      <th></th>\n",
       "      <th>YearsExperience</th>\n",
       "      <th>EducationLevel</th>\n",
       "      <th>City</th>\n",
       "      <th>Salary</th>\n",
       "    </tr>\n",
       "  </thead>\n",
       "  <tbody>\n",
       "    <tr>\n",
       "      <th>0</th>\n",
       "      <td>3.0</td>\n",
       "      <td>1</td>\n",
       "      <td>城市A</td>\n",
       "      <td>45.9</td>\n",
       "    </tr>\n",
       "    <tr>\n",
       "      <th>1</th>\n",
       "      <td>7.8</td>\n",
       "      <td>2</td>\n",
       "      <td>城市C</td>\n",
       "      <td>80.5</td>\n",
       "    </tr>\n",
       "    <tr>\n",
       "      <th>2</th>\n",
       "      <td>2.3</td>\n",
       "      <td>0</td>\n",
       "      <td>城市A</td>\n",
       "      <td>25.2</td>\n",
       "    </tr>\n",
       "    <tr>\n",
       "      <th>3</th>\n",
       "      <td>5.1</td>\n",
       "      <td>0</td>\n",
       "      <td>城市A</td>\n",
       "      <td>30.4</td>\n",
       "    </tr>\n",
       "    <tr>\n",
       "      <th>4</th>\n",
       "      <td>10.0</td>\n",
       "      <td>2</td>\n",
       "      <td>城市B</td>\n",
       "      <td>65.7</td>\n",
       "    </tr>\n",
       "  </tbody>\n",
       "</table>\n",
       "</div>"
      ],
      "text/plain": [
       "   YearsExperience  EducationLevel City  Salary\n",
       "0              3.0               1  城市A    45.9\n",
       "1              7.8               2  城市C    80.5\n",
       "2              2.3               0  城市A    25.2\n",
       "3              5.1               0  城市A    30.4\n",
       "4             10.0               2  城市B    65.7"
      ]
     },
     "execution_count": 353,
     "metadata": {},
     "output_type": "execute_result"
    }
   ],
   "source": [
    "df[\"EducationLevel\"] = df[\"EducationLevel\"].map({\"高中以下\": 0, \"大學\": 1, \"碩士以上\": 2})\n",
    "df.head(5)"
   ]
  },
  {
   "cell_type": "code",
   "execution_count": 354,
   "id": "cbc6707a-3269-4f0d-9d02-c0ac5f2d483d",
   "metadata": {
    "scrolled": true
   },
   "outputs": [
    {
     "data": {
      "text/plain": [
       "array([[ 1.00e+00,  0.00e+00,  0.00e+00],\n",
       "       [ 0.00e+00,  0.00e+00,  1.00e+00],\n",
       "       [ 1.00e+00,  0.00e+00,  0.00e+00],\n",
       "       [ 1.00e+00,  0.00e+00,  0.00e+00],\n",
       "       [ 0.00e+00,  1.00e+00,  0.00e+00],\n",
       "       [ 0.00e+00,  0.00e+00,  1.00e+00],\n",
       "       [ 0.00e+00,  0.00e+00,  1.00e+00],\n",
       "       [ 1.00e+00,  0.00e+00,  0.00e+00],\n",
       "       [ 1.00e+00,  0.00e+00,  0.00e+00],\n",
       "       [ 1.00e+00,  0.00e+00,  0.00e+00],\n",
       "       [ 1.00e+00,  0.00e+00,  0.00e+00],\n",
       "       [ 1.00e+00,  0.00e+00,  0.00e+00],\n",
       "       [ 0.00e+00,  0.00e+00,  1.00e+00],\n",
       "       [ 0.00e+00,  1.00e+00,  0.00e+00],\n",
       "       [ 0.00e+00,  0.00e+00,  1.00e+00],\n",
       "       [ 0.00e+00,  0.00e+00,  1.00e+00],\n",
       "       [ 1.00e+00,  0.00e+00,  0.00e+00],\n",
       "       [ 1.00e+00,  0.00e+00,  0.00e+00],\n",
       "       [ 1.00e+00,  0.00e+00,  0.00e+00],\n",
       "       [ 1.00e+00,  0.00e+00,  0.00e+00],\n",
       "       [ 1.00e+00,  0.00e+00,  0.00e+00],\n",
       "       [ 0.00e+00,  0.00e+00,  1.00e+00],\n",
       "       [ 0.00e+00,  1.00e+00,  0.00e+00],\n",
       "       [ 0.00e+00,  0.00e+00,  1.00e+00],\n",
       "       [ 0.00e+00,  0.00e+00,  1.00e+00],\n",
       "       [ 1.00e+00,  0.00e+00,  0.00e+00],\n",
       "       [ 1.00e+00,  0.00e+00,  0.00e+00],\n",
       "       [ 1.00e+00,  0.00e+00,  0.00e+00],\n",
       "       [ 1.00e+00,  0.00e+00,  0.00e+00],\n",
       "       [ 1.00e+00,  0.00e+00,  0.00e+00],\n",
       "       [ 0.00e+00,  0.00e+00,  1.00e+00],\n",
       "       [ 0.00e+00,  1.00e+00,  0.00e+00],\n",
       "       [ 0.00e+00,  0.00e+00,  1.00e+00],\n",
       "       [ 0.00e+00,  0.00e+00,  1.00e+00],\n",
       "       [ 1.00e+00,  0.00e+00,  0.00e+00],\n",
       "       [ 1.00e+00,  0.00e+00,  0.00e+00]])"
      ]
     },
     "execution_count": 354,
     "metadata": {},
     "output_type": "execute_result"
    }
   ],
   "source": [
    "from sklearn.preprocessing import OneHotEncoder\n",
    "\n",
    "onehot_encoder = OneHotEncoder()\n",
    "onehot_encoder.fit(df[[\"City\"]])\n",
    "city_encoded = onehot_encoder.transform(df[[\"City\"]]).toarray()\n",
    "city_encoded"
   ]
  },
  {
   "cell_type": "code",
   "execution_count": 355,
   "id": "7073b52b-a8b7-4cd2-9c1c-2ad1bf27804d",
   "metadata": {
    "scrolled": true
   },
   "outputs": [
    {
     "data": {
      "text/html": [
       "<div>\n",
       "<style scoped>\n",
       "    .dataframe tbody tr th:only-of-type {\n",
       "        vertical-align: middle;\n",
       "    }\n",
       "\n",
       "    .dataframe tbody tr th {\n",
       "        vertical-align: top;\n",
       "    }\n",
       "\n",
       "    .dataframe thead th {\n",
       "        text-align: right;\n",
       "    }\n",
       "</style>\n",
       "<table border=\"1\" class=\"dataframe\">\n",
       "  <thead>\n",
       "    <tr style=\"text-align: right;\">\n",
       "      <th></th>\n",
       "      <th>YearsExperience</th>\n",
       "      <th>EducationLevel</th>\n",
       "      <th>City</th>\n",
       "      <th>Salary</th>\n",
       "      <th>CityA</th>\n",
       "      <th>CityB</th>\n",
       "      <th>CityC</th>\n",
       "    </tr>\n",
       "  </thead>\n",
       "  <tbody>\n",
       "    <tr>\n",
       "      <th>0</th>\n",
       "      <td>3.0</td>\n",
       "      <td>1</td>\n",
       "      <td>城市A</td>\n",
       "      <td>45.9</td>\n",
       "      <td>1.0</td>\n",
       "      <td>0.0</td>\n",
       "      <td>0.0</td>\n",
       "    </tr>\n",
       "    <tr>\n",
       "      <th>1</th>\n",
       "      <td>7.8</td>\n",
       "      <td>2</td>\n",
       "      <td>城市C</td>\n",
       "      <td>80.5</td>\n",
       "      <td>0.0</td>\n",
       "      <td>0.0</td>\n",
       "      <td>1.0</td>\n",
       "    </tr>\n",
       "    <tr>\n",
       "      <th>2</th>\n",
       "      <td>2.3</td>\n",
       "      <td>0</td>\n",
       "      <td>城市A</td>\n",
       "      <td>25.2</td>\n",
       "      <td>1.0</td>\n",
       "      <td>0.0</td>\n",
       "      <td>0.0</td>\n",
       "    </tr>\n",
       "    <tr>\n",
       "      <th>3</th>\n",
       "      <td>5.1</td>\n",
       "      <td>0</td>\n",
       "      <td>城市A</td>\n",
       "      <td>30.4</td>\n",
       "      <td>1.0</td>\n",
       "      <td>0.0</td>\n",
       "      <td>0.0</td>\n",
       "    </tr>\n",
       "    <tr>\n",
       "      <th>4</th>\n",
       "      <td>10.0</td>\n",
       "      <td>2</td>\n",
       "      <td>城市B</td>\n",
       "      <td>65.7</td>\n",
       "      <td>0.0</td>\n",
       "      <td>1.0</td>\n",
       "      <td>0.0</td>\n",
       "    </tr>\n",
       "  </tbody>\n",
       "</table>\n",
       "</div>"
      ],
      "text/plain": [
       "   YearsExperience  EducationLevel City  Salary  CityA  CityB  CityC\n",
       "0              3.0               1  城市A    45.9    1.0    0.0    0.0\n",
       "1              7.8               2  城市C    80.5    0.0    0.0    1.0\n",
       "2              2.3               0  城市A    25.2    1.0    0.0    0.0\n",
       "3              5.1               0  城市A    30.4    1.0    0.0    0.0\n",
       "4             10.0               2  城市B    65.7    0.0    1.0    0.0"
      ]
     },
     "execution_count": 355,
     "metadata": {},
     "output_type": "execute_result"
    }
   ],
   "source": [
    "df[[\"CityA\", \"CityB\", \"CityC\"]] = city_encoded\n",
    "df.head(5)"
   ]
  },
  {
   "cell_type": "code",
   "execution_count": 356,
   "id": "3824f621-bbc9-4eae-a5d8-c6addcc52669",
   "metadata": {
    "scrolled": true
   },
   "outputs": [
    {
     "data": {
      "text/html": [
       "<div>\n",
       "<style scoped>\n",
       "    .dataframe tbody tr th:only-of-type {\n",
       "        vertical-align: middle;\n",
       "    }\n",
       "\n",
       "    .dataframe tbody tr th {\n",
       "        vertical-align: top;\n",
       "    }\n",
       "\n",
       "    .dataframe thead th {\n",
       "        text-align: right;\n",
       "    }\n",
       "</style>\n",
       "<table border=\"1\" class=\"dataframe\">\n",
       "  <thead>\n",
       "    <tr style=\"text-align: right;\">\n",
       "      <th></th>\n",
       "      <th>YearsExperience</th>\n",
       "      <th>EducationLevel</th>\n",
       "      <th>Salary</th>\n",
       "      <th>CityA</th>\n",
       "      <th>CityB</th>\n",
       "    </tr>\n",
       "  </thead>\n",
       "  <tbody>\n",
       "    <tr>\n",
       "      <th>0</th>\n",
       "      <td>3.0</td>\n",
       "      <td>1</td>\n",
       "      <td>45.9</td>\n",
       "      <td>1.0</td>\n",
       "      <td>0.0</td>\n",
       "    </tr>\n",
       "    <tr>\n",
       "      <th>1</th>\n",
       "      <td>7.8</td>\n",
       "      <td>2</td>\n",
       "      <td>80.5</td>\n",
       "      <td>0.0</td>\n",
       "      <td>0.0</td>\n",
       "    </tr>\n",
       "    <tr>\n",
       "      <th>2</th>\n",
       "      <td>2.3</td>\n",
       "      <td>0</td>\n",
       "      <td>25.2</td>\n",
       "      <td>1.0</td>\n",
       "      <td>0.0</td>\n",
       "    </tr>\n",
       "    <tr>\n",
       "      <th>3</th>\n",
       "      <td>5.1</td>\n",
       "      <td>0</td>\n",
       "      <td>30.4</td>\n",
       "      <td>1.0</td>\n",
       "      <td>0.0</td>\n",
       "    </tr>\n",
       "    <tr>\n",
       "      <th>4</th>\n",
       "      <td>10.0</td>\n",
       "      <td>2</td>\n",
       "      <td>65.7</td>\n",
       "      <td>0.0</td>\n",
       "      <td>1.0</td>\n",
       "    </tr>\n",
       "  </tbody>\n",
       "</table>\n",
       "</div>"
      ],
      "text/plain": [
       "   YearsExperience  EducationLevel  Salary  CityA  CityB\n",
       "0              3.0               1    45.9    1.0    0.0\n",
       "1              7.8               2    80.5    0.0    0.0\n",
       "2              2.3               0    25.2    1.0    0.0\n",
       "3              5.1               0    30.4    1.0    0.0\n",
       "4             10.0               2    65.7    0.0    1.0"
      ]
     },
     "execution_count": 356,
     "metadata": {},
     "output_type": "execute_result"
    }
   ],
   "source": [
    "df = df.drop([\"City\", \"CityC\"], axis=1)\n",
    "df.head(5)"
   ]
  },
  {
   "cell_type": "code",
   "execution_count": 357,
   "id": "2c884c86-5e51-45ff-afce-505e572355b0",
   "metadata": {
    "scrolled": true
   },
   "outputs": [],
   "source": [
    "from sklearn.model_selection import train_test_split\n",
    "\n",
    "# train_data, test_data = train_test_split(df, random_state=777, train_size=0.8)\n",
    "\n",
    "x = df[[\"YearsExperience\", \"EducationLevel\", \"CityA\", \"CityB\"]]\n",
    "y = df[\"Salary\"]\n",
    "\n",
    "x_train, x_test, y_train, y_test = train_test_split(x, y, test_size=0.2, random_state=777)\n",
    "\n",
    "# to_numpy() 是 Pandas 物件的一部分，用於從 Pandas 數據結構（DataFrame 或 Series）轉換為 NumPy 陣列\n",
    "# np.asarray 是numpy, 且不會複製一份；若改用np.asarray則會複製一份。\n",
    "x_train = x_train.to_numpy()\n",
    "y_train = y_train.to_numpy() \n",
    "x_test = x_test.to_numpy()\n",
    "\n",
    "# or\n",
    "# x_train = np.asarray(x_train)\n",
    "# y_train = np.asarray(y_train)\n"
   ]
  },
  {
   "cell_type": "code",
   "execution_count": 358,
   "id": "ddaf3c68-eda8-43d3-a741-6e764b261d2e",
   "metadata": {},
   "outputs": [],
   "source": [
    "from sklearn.preprocessing import StandardScaler\n",
    "\n",
    "\n",
    "\n",
    "### .fit()+.transform() or fit_transform\n",
    "xscaler = StandardScaler().fit(x_train)\n",
    "x_train = xscaler.transform(x_train)\n",
    "x_test = xscaler.transform(x_test)\n",
    "\n",
    "# seems y_train Normalization and Standardization is not necessary !\n",
    "# y_train = y_train.reshape(-1, 1)\n",
    "# yscaler = StandardScaler().fit(y_train)\n",
    "# y_train = yscaler.transform(y_train)    \n",
    "# y_train = y_train.flatten() \n",
    "\n",
    "### or fit_transform. Both okay, but .fit_transform has no sclaer\n",
    "# x_train = StandardScaler().fit_transform(x_train)\n",
    "# y_train = StandardScaler().fit_transform(y_train)    \n"
   ]
  },
  {
   "cell_type": "code",
   "execution_count": 359,
   "id": "f83054ad-bb36-4ba0-a3f7-1505374e2dfe",
   "metadata": {
    "scrolled": true
   },
   "outputs": [
    {
     "name": "stdout",
     "output_type": "stream",
     "text": [
      "[ 7.69e+01  5.63e+01  5.01e+01  4.07e+01  6.57e+01  4.29e+01  5.56e+01\n",
      "  2.52e+01  3.20e+01  3.16e+01  3.67e+01  2.97e+01  6.08e+01  4.38e+01\n",
      "  2.49e+01  8.05e+01  4.59e+01  6.02e+01  7.09e+01  2.65e+01  6.59e+01\n",
      "  4.83e+01  3.85e+01  6.24e+01  6.84e+01  4.16e+01  7.03e+01  5.80e+01]\n"
     ]
    }
   ],
   "source": [
    "# y_train[2]=20\n",
    "print(y_train)\n"
   ]
  },
  {
   "cell_type": "code",
   "execution_count": 419,
   "id": "dee6baee-0ae8-4728-80a0-9edeb892463e",
   "metadata": {
    "scrolled": true
   },
   "outputs": [
    {
     "data": {
      "text/plain": [
       "2763.6872940327153"
      ]
     },
     "execution_count": 419,
     "metadata": {},
     "output_type": "execute_result"
    }
   ],
   "source": [
    "import numpy as np\n",
    "w= np.array([1 , 2 , 3 , 4])\n",
    "b=0\n",
    "\n",
    "y_pred = (x_train*w).sum(axis=1) + b\n",
    "((y_train-y_pred)**2).mean()\n",
    "\n",
    "# if only .mean : 輸出各自的值，若採用.mean()會再將之全部平均"
   ]
  },
  {
   "cell_type": "code",
   "execution_count": 432,
   "id": "cde437f5-9fee-401b-849e-10ea79326655",
   "metadata": {},
   "outputs": [
    {
     "name": "stdout",
     "output_type": "stream",
     "text": [
      "[ 2.13e-01 -1.89e+00 -1.95e+00  4.52e-01  1.41e+01  6.73e-01 -2.02e+00\n",
      " -2.85e+00 -1.75e+00 -1.78e+00  4.89e-01 -1.86e+00 -2.07e+00  1.94e-01\n",
      " -2.78e+00  3.60e-01  9.37e-03  1.41e+01  1.41e+01 -2.93e+00  3.76e+00\n",
      " -2.10e+00  5.99e-01 -1.96e+00  3.83e+00  2.31e-01  4.05e+00 -1.85e+00]\n",
      "2639.510480287998\n"
     ]
    }
   ],
   "source": [
    "def Pred_LR(x, w, b):\n",
    "    return   (x*w).sum(axis=1) + b   \n",
    "    \n",
    "y_pred = Pred_LR(x_train, w, b)\n",
    "print(y_pred)\n",
    "\n",
    "def Cost_mse(y, y_pred):\n",
    "    return   ((y - y_pred)**2).mean()  \n",
    "cost = Cost_mse(y_train, y_pred)\n",
    "print(cost)"
   ]
  },
  {
   "cell_type": "code",
   "execution_count": 422,
   "id": "e0bcefa9-c081-45ce-8d34-0dd3b1ca0b17",
   "metadata": {},
   "outputs": [
    {
     "data": {
      "text/plain": [
       "2754.448577386707"
      ]
     },
     "execution_count": 422,
     "metadata": {},
     "output_type": "execute_result"
    }
   ],
   "source": [
    "### 從3_gradient_descent.ipynb copy 過來改即可\n",
    "def compute_cost(x, y, w, b):\n",
    "  # y_pred = (x*w).sum(axis=1) + b      #多了.sum(axis=1), becos M W-variables\n",
    "  y_pred = Pred_LR(x, w, b)\n",
    "  cost = ((y - y_pred)**2).mean()\n",
    "  return cost\n",
    "    \n",
    "w = np.array([0, 2, 2, 4])\n",
    "b = 0\n",
    "compute_cost(x_train, y_train, w, b)"
   ]
  },
  {
   "cell_type": "code",
   "execution_count": 423,
   "id": "15fbe1f6-f33e-418f-a9ef-7c8db4e742b5",
   "metadata": {},
   "outputs": [
    {
     "data": {
      "text/plain": [
       "(array([-4.41e+00, -1.25e+01,  9.03e+00, -7.65e-01]), -49.36785714285715)"
      ]
     },
     "execution_count": 423,
     "metadata": {},
     "output_type": "execute_result"
    }
   ],
   "source": [
    "\n",
    "### 從3_gradient_descent.ipynb copy 過來改即可\n",
    "\n",
    "def compute_gradient(x, y, w, b):\n",
    "  # y_pred = (x*w).sum(axis=1) + b      #多了.sum(axis=1), becos M W-variables\n",
    "  y_pred = Pred_LR(x, w, b)\n",
    "  b_gradient = (y_pred -y).mean()\n",
    "  w_gradient = np.zeros(x_train.shape[1])    # define n zero tensor for w_gradient ; x_train.shape[1] : 4 input variables\n",
    "  # print(w_gradient)\n",
    "\n",
    "  for i in range(x_train.shape[1]):\n",
    "    w_gradient[i] = (x_train[:,i]*(y_pred -y)).mean()    # Remeber to add [i]\n",
    "    # print(i,w_gradient)\n",
    "  return w_gradient, b_gradient\n",
    "    \n",
    "w = np.array([1, 2, 2, 4])\n",
    "b = 1\n",
    "compute_gradient(x_train, y_train, w, b)"
   ]
  },
  {
   "cell_type": "code",
   "execution_count": 424,
   "id": "ea9e0ddc-b4ad-4a83-97a7-d73378d812be",
   "metadata": {},
   "outputs": [
    {
     "name": "stdout",
     "output_type": "stream",
     "text": [
      "2639.510480287998\n"
     ]
    }
   ],
   "source": [
    "w = np.array([1, 2, 2, 4])\n",
    "b = 1\n",
    "learning_rate = 0.001\n",
    "w_gradient, b_gradient = compute_gradient(x_train, y_train, w, b)\n",
    "\n",
    "w = w - w_gradient*learning_rate\n",
    "b = b - b_gradient*learning_rate\n",
    "\n",
    "print(compute_cost(x_train, y_train, w, b))"
   ]
  },
  {
   "cell_type": "code",
   "execution_count": 425,
   "id": "acdc1b3b-0aef-4edf-9ad1-35087f8fc85b",
   "metadata": {},
   "outputs": [],
   "source": [
    "### 從3_gradient_descent.ipynb copy 過來改即可，只需修改print ~w: {w} 與 w_gradient: {w_gradient},　\n",
    "\n",
    "def gradient_descent1(x, y, w_init, b_init, learning_rate, cost_function, gradient_function, run_iter, p_iter=1000):\n",
    "\n",
    "  c_hist = []\n",
    "  w_hist = []\n",
    "  b_hist = []\n",
    "\n",
    "  w = w_init\n",
    "  b = b_init\n",
    "\n",
    "  for i in range(run_iter):\n",
    "    w_gradient, b_gradient = gradient_function(x, y, w, b)\n",
    "\n",
    "    w = w - w_gradient*learning_rate\n",
    "    b = b - b_gradient*learning_rate\n",
    "    cost = cost_function(x, y, w, b)\n",
    "\n",
    "    w_hist.append(w)\n",
    "    b_hist.append(b)\n",
    "    c_hist.append(cost)\n",
    "\n",
    "    if i%p_iter == 0:\n",
    "      print(f\"Iteration {i:5} : Cost {cost: .4e}, w: {w}, b: {b: .2e}, w_gradient: {w_gradient}, b_gradient: {b_gradient: .2e}\")\n",
    "\n",
    "  return w, b, w_hist, b_hist, c_hist"
   ]
  },
  {
   "cell_type": "code",
   "execution_count": 426,
   "id": "6372a88f-6c93-4515-ba8e-12de473e70c9",
   "metadata": {},
   "outputs": [
    {
     "name": "stdout",
     "output_type": "stream",
     "text": [
      "Iteration     0 : Cost  2.1350e+03, w: [ 1.44e+00  3.25e+00  1.10e+00  4.08e+00], b:  5.94e+00, w_gradient: [-4.41e+00 -1.25e+01  9.03e+00 -7.65e-01], b_gradient: -4.94e+01\n",
      "Iteration  1000 : Cost  1.6844e+01, w: [ 5.21e+00  1.39e+01 -1.25e+00 -3.28e+00], b:  5.04e+01, w_gradient: [-4.30e-15 -8.34e-15 -1.90e-16 -2.05e-15], b_gradient: -3.16e-14\n",
      "Iteration  2000 : Cost  1.6844e+01, w: [ 5.21e+00  1.39e+01 -1.25e+00 -3.28e+00], b:  5.04e+01, w_gradient: [-4.30e-15 -8.34e-15 -1.90e-16 -2.05e-15], b_gradient: -3.16e-14\n",
      "Iteration  3000 : Cost  1.6844e+01, w: [ 5.21e+00  1.39e+01 -1.25e+00 -3.28e+00], b:  5.04e+01, w_gradient: [-4.30e-15 -8.34e-15 -1.90e-16 -2.05e-15], b_gradient: -3.16e-14\n",
      "Iteration  4000 : Cost  1.6844e+01, w: [ 5.21e+00  1.39e+01 -1.25e+00 -3.28e+00], b:  5.04e+01, w_gradient: [-4.30e-15 -8.34e-15 -1.90e-16 -2.05e-15], b_gradient: -3.16e-14\n",
      "Iteration  5000 : Cost  1.6844e+01, w: [ 5.21e+00  1.39e+01 -1.25e+00 -3.28e+00], b:  5.04e+01, w_gradient: [-4.30e-15 -8.34e-15 -1.90e-16 -2.05e-15], b_gradient: -3.16e-14\n",
      "Iteration  6000 : Cost  1.6844e+01, w: [ 5.21e+00  1.39e+01 -1.25e+00 -3.28e+00], b:  5.04e+01, w_gradient: [-4.30e-15 -8.34e-15 -1.90e-16 -2.05e-15], b_gradient: -3.16e-14\n",
      "Iteration  7000 : Cost  1.6844e+01, w: [ 5.21e+00  1.39e+01 -1.25e+00 -3.28e+00], b:  5.04e+01, w_gradient: [-4.30e-15 -8.34e-15 -1.90e-16 -2.05e-15], b_gradient: -3.16e-14\n",
      "Iteration  8000 : Cost  1.6844e+01, w: [ 5.21e+00  1.39e+01 -1.25e+00 -3.28e+00], b:  5.04e+01, w_gradient: [-4.30e-15 -8.34e-15 -1.90e-16 -2.05e-15], b_gradient: -3.16e-14\n",
      "Iteration  9000 : Cost  1.6844e+01, w: [ 5.21e+00  1.39e+01 -1.25e+00 -3.28e+00], b:  5.04e+01, w_gradient: [-4.30e-15 -8.34e-15 -1.90e-16 -2.05e-15], b_gradient: -3.16e-14\n",
      "w_final [ 5.21e+00  1.39e+01 -1.25e+00 -3.28e+00] : b_final  5.0368e+01\n"
     ]
    }
   ],
   "source": [
    "w_init = np.array([1, 2, 2, 4])\n",
    "b_init = 1\n",
    "learning_rate = 1.0e-1\n",
    "run_iter = 10000\n",
    "\n",
    "w_final, b_final, w_hist, b_hist, c_hist = gradient_descent1(x_train, y_train, w_init, b_init, learning_rate, compute_cost, compute_gradient, run_iter)\n",
    "\n",
    "print(f\"w_final {w_final} : b_final {b_final: .4e}\")"
   ]
  },
  {
   "cell_type": "code",
   "execution_count": 427,
   "id": "44e018d2-a297-490d-9a9c-2fe22537be37",
   "metadata": {},
   "outputs": [
    {
     "name": "stdout",
     "output_type": "stream",
     "text": [
      "[ 6.56e+01  7.09e+01  2.32e+01  2.83e+01  7.16e+01  6.70e+01  5.44e+01\n",
      "  4.40e+01]\n"
     ]
    },
    {
     "data": {
      "text/html": [
       "<div>\n",
       "<style scoped>\n",
       "    .dataframe tbody tr th:only-of-type {\n",
       "        vertical-align: middle;\n",
       "    }\n",
       "\n",
       "    .dataframe tbody tr th {\n",
       "        vertical-align: top;\n",
       "    }\n",
       "\n",
       "    .dataframe thead th {\n",
       "        text-align: right;\n",
       "    }\n",
       "</style>\n",
       "<table border=\"1\" class=\"dataframe\">\n",
       "  <thead>\n",
       "    <tr style=\"text-align: right;\">\n",
       "      <th></th>\n",
       "      <th>y_pred</th>\n",
       "      <th>y_test</th>\n",
       "    </tr>\n",
       "  </thead>\n",
       "  <tbody>\n",
       "    <tr>\n",
       "      <th>22</th>\n",
       "      <td>65.600000</td>\n",
       "      <td>63.6</td>\n",
       "    </tr>\n",
       "    <tr>\n",
       "      <th>12</th>\n",
       "      <td>70.851774</td>\n",
       "      <td>84.2</td>\n",
       "    </tr>\n",
       "    <tr>\n",
       "      <th>9</th>\n",
       "      <td>23.183792</td>\n",
       "      <td>28.1</td>\n",
       "    </tr>\n",
       "    <tr>\n",
       "      <th>3</th>\n",
       "      <td>28.348787</td>\n",
       "      <td>30.4</td>\n",
       "    </tr>\n",
       "    <tr>\n",
       "      <th>21</th>\n",
       "      <td>71.616958</td>\n",
       "      <td>78.3</td>\n",
       "    </tr>\n",
       "    <tr>\n",
       "      <th>16</th>\n",
       "      <td>66.993647</td>\n",
       "      <td>72.7</td>\n",
       "    </tr>\n",
       "    <tr>\n",
       "      <th>33</th>\n",
       "      <td>54.398785</td>\n",
       "      <td>45.2</td>\n",
       "    </tr>\n",
       "    <tr>\n",
       "      <th>11</th>\n",
       "      <td>44.036591</td>\n",
       "      <td>48.3</td>\n",
       "    </tr>\n",
       "  </tbody>\n",
       "</table>\n",
       "</div>"
      ],
      "text/plain": [
       "       y_pred  y_test\n",
       "22  65.600000    63.6\n",
       "12  70.851774    84.2\n",
       "9   23.183792    28.1\n",
       "3   28.348787    30.4\n",
       "21  71.616958    78.3\n",
       "16  66.993647    72.7\n",
       "33  54.398785    45.2\n",
       "11  44.036591    48.3"
      ]
     },
     "execution_count": 427,
     "metadata": {},
     "output_type": "execute_result"
    }
   ],
   "source": [
    "# y_pred = (w_final*x_test).sum(axis=1) + b_final\n",
    "y_pred = Pred_LR(x_test, w_final, b_final)\n",
    "\n",
    "pd.DataFrame({\n",
    "    \"y_pred\": y_pred,\n",
    "    \"y_test\": y_test\n",
    "})"
   ]
  },
  {
   "cell_type": "code",
   "execution_count": null,
   "id": "ffc00dc1-d357-4f31-9c20-b4a4f321bcd0",
   "metadata": {},
   "outputs": [],
   "source": []
  },
  {
   "cell_type": "code",
   "execution_count": null,
   "id": "f5317d53-db99-456d-abfc-85ff4815f3aa",
   "metadata": {},
   "outputs": [],
   "source": []
  }
 ],
 "metadata": {
  "kernelspec": {
   "display_name": "Python 3 (ipykernel)",
   "language": "python",
   "name": "python3"
  },
  "language_info": {
   "codemirror_mode": {
    "name": "ipython",
    "version": 3
   },
   "file_extension": ".py",
   "mimetype": "text/x-python",
   "name": "python",
   "nbconvert_exporter": "python",
   "pygments_lexer": "ipython3",
   "version": "3.11.7"
  }
 },
 "nbformat": 4,
 "nbformat_minor": 5
}
